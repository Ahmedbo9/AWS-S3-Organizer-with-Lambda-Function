{
 "cells": [
  {
   "cell_type": "code",
   "execution_count": 173,
   "metadata": {},
   "outputs": [],
   "source": [
    "import boto3\n",
    "from datetime import datetime"
   ]
  },
  {
   "cell_type": "code",
   "execution_count": 174,
   "metadata": {},
   "outputs": [],
   "source": [
    "today = datetime.today().strftime('%Y-%m-%d')\n"
   ]
  },
  {
   "cell_type": "code",
   "execution_count": 175,
   "metadata": {},
   "outputs": [],
   "source": [
    "client = boto3.client('s3')"
   ]
  },
  {
   "cell_type": "code",
   "execution_count": 176,
   "metadata": {},
   "outputs": [],
   "source": [
    "bucket_name = 'abo-s3-organizer'"
   ]
  },
  {
   "cell_type": "code",
   "execution_count": 177,
   "metadata": {},
   "outputs": [],
   "source": [
    "list_of_objects = client.list_objects_v2(Bucket=bucket_name)\n"
   ]
  },
  {
   "cell_type": "code",
   "execution_count": 178,
   "metadata": {},
   "outputs": [
    {
     "data": {
      "text/plain": [
       "{'ResponseMetadata': {'RequestId': 'S0GFBD7HSWT8NM8X',\n",
       "  'HostId': 'w+qaU3g/Sl9hltWQeJUYl9njE1aPawBT0zChC3rqTwDAUw8nGRExvJk2UEtBBdq6xUqT2q6OkyX9DwUaGnrur4MIIq/DJT4F',\n",
       "  'HTTPStatusCode': 200,\n",
       "  'HTTPHeaders': {'x-amz-id-2': 'w+qaU3g/Sl9hltWQeJUYl9njE1aPawBT0zChC3rqTwDAUw8nGRExvJk2UEtBBdq6xUqT2q6OkyX9DwUaGnrur4MIIq/DJT4F',\n",
       "   'x-amz-request-id': 'S0GFBD7HSWT8NM8X',\n",
       "   'date': 'Wed, 26 Jun 2024 16:35:38 GMT',\n",
       "   'x-amz-bucket-region': 'us-east-1',\n",
       "   'content-type': 'application/xml',\n",
       "   'transfer-encoding': 'chunked',\n",
       "   'server': 'AmazonS3'},\n",
       "  'RetryAttempts': 0},\n",
       " 'IsTruncated': False,\n",
       " 'Contents': [{'Key': '2024-06-26/',\n",
       "   'LastModified': datetime.datetime(2024, 6, 26, 16, 15, 18, tzinfo=tzutc()),\n",
       "   'ETag': '\"d41d8cd98f00b204e9800998ecf8427e\"',\n",
       "   'Size': 0,\n",
       "   'StorageClass': 'STANDARD'},\n",
       "  {'Key': '2024-06-26/1.Terraform-Ecommerce.jpg',\n",
       "   'LastModified': datetime.datetime(2024, 6, 26, 16, 30, 55, tzinfo=tzutc()),\n",
       "   'ETag': '\"b368dfb7a5118bb10f27f5ad3ad8073a\"',\n",
       "   'Size': 479967,\n",
       "   'StorageClass': 'STANDARD'},\n",
       "  {'Key': '2024-06-26/2._Host_a_WordPress_Website_on_AWS.png',\n",
       "   'LastModified': datetime.datetime(2024, 6, 26, 16, 30, 55, tzinfo=tzutc()),\n",
       "   'ETag': '\"34f5d8c36df125b172c20d5433aa525c\"',\n",
       "   'Size': 278017,\n",
       "   'StorageClass': 'STANDARD'},\n",
       "  {'Key': '2024-06-26/Guide Amazon QuickSight project_Rasha.pdf',\n",
       "   'LastModified': datetime.datetime(2024, 6, 26, 16, 30, 55, tzinfo=tzutc()),\n",
       "   'ETag': '\"88905c527364716ae57b433c0fbd1c20\"',\n",
       "   'Size': 1453746,\n",
       "   'StorageClass': 'STANDARD'},\n",
       "  {'Key': '2024-06-26/host_worldpress.pdf',\n",
       "   'LastModified': datetime.datetime(2024, 6, 26, 16, 30, 56, tzinfo=tzutc()),\n",
       "   'ETag': '\"8acf850b27b2c45df86813cad7a03587\"',\n",
       "   'Size': 75030,\n",
       "   'StorageClass': 'STANDARD'},\n",
       "  {'Key': '441201847_459687019759034_1976084398501053029_n.jpg',\n",
       "   'LastModified': datetime.datetime(2024, 6, 26, 16, 35, 30, tzinfo=tzutc()),\n",
       "   'ETag': '\"87a8298194a35b152d093a029174abe0\"',\n",
       "   'Size': 151651,\n",
       "   'StorageClass': 'STANDARD'},\n",
       "  {'Key': 'README.txt',\n",
       "   'LastModified': datetime.datetime(2024, 6, 26, 16, 35, 29, tzinfo=tzutc()),\n",
       "   'ETag': '\"61c0c80d270490a64fb152a1b8bc05c5\"',\n",
       "   'Size': 2847,\n",
       "   'StorageClass': 'STANDARD'},\n",
       "  {'Key': 'The Missing Sydney Harwin List June 2024.txt',\n",
       "   'LastModified': datetime.datetime(2024, 6, 26, 16, 35, 29, tzinfo=tzutc()),\n",
       "   'ETag': '\"d4cb9ad33ec708e83603648c92665be7\"',\n",
       "   'Size': 1888,\n",
       "   'StorageClass': 'STANDARD'},\n",
       "  {'Key': 'VPC.png',\n",
       "   'LastModified': datetime.datetime(2024, 6, 26, 16, 35, 30, tzinfo=tzutc()),\n",
       "   'ETag': '\"90fff20a10b845ba263c50dcf40797d0\"',\n",
       "   'Size': 140779,\n",
       "   'StorageClass': 'STANDARD'}],\n",
       " 'Name': 'abo-s3-organizer',\n",
       " 'Prefix': '',\n",
       " 'MaxKeys': 1000,\n",
       " 'EncodingType': 'url',\n",
       " 'KeyCount': 9}"
      ]
     },
     "execution_count": 178,
     "metadata": {},
     "output_type": "execute_result"
    }
   ],
   "source": [
    "list_of_objects"
   ]
  },
  {
   "cell_type": "code",
   "execution_count": 179,
   "metadata": {},
   "outputs": [],
   "source": [
    "s3_bucket_contents = list_of_objects['Contents']"
   ]
  },
  {
   "cell_type": "code",
   "execution_count": 180,
   "metadata": {},
   "outputs": [
    {
     "data": {
      "text/plain": [
       "[{'Key': '2024-06-26/',\n",
       "  'LastModified': datetime.datetime(2024, 6, 26, 16, 15, 18, tzinfo=tzutc()),\n",
       "  'ETag': '\"d41d8cd98f00b204e9800998ecf8427e\"',\n",
       "  'Size': 0,\n",
       "  'StorageClass': 'STANDARD'},\n",
       " {'Key': '2024-06-26/1.Terraform-Ecommerce.jpg',\n",
       "  'LastModified': datetime.datetime(2024, 6, 26, 16, 30, 55, tzinfo=tzutc()),\n",
       "  'ETag': '\"b368dfb7a5118bb10f27f5ad3ad8073a\"',\n",
       "  'Size': 479967,\n",
       "  'StorageClass': 'STANDARD'},\n",
       " {'Key': '2024-06-26/2._Host_a_WordPress_Website_on_AWS.png',\n",
       "  'LastModified': datetime.datetime(2024, 6, 26, 16, 30, 55, tzinfo=tzutc()),\n",
       "  'ETag': '\"34f5d8c36df125b172c20d5433aa525c\"',\n",
       "  'Size': 278017,\n",
       "  'StorageClass': 'STANDARD'},\n",
       " {'Key': '2024-06-26/Guide Amazon QuickSight project_Rasha.pdf',\n",
       "  'LastModified': datetime.datetime(2024, 6, 26, 16, 30, 55, tzinfo=tzutc()),\n",
       "  'ETag': '\"88905c527364716ae57b433c0fbd1c20\"',\n",
       "  'Size': 1453746,\n",
       "  'StorageClass': 'STANDARD'},\n",
       " {'Key': '2024-06-26/host_worldpress.pdf',\n",
       "  'LastModified': datetime.datetime(2024, 6, 26, 16, 30, 56, tzinfo=tzutc()),\n",
       "  'ETag': '\"8acf850b27b2c45df86813cad7a03587\"',\n",
       "  'Size': 75030,\n",
       "  'StorageClass': 'STANDARD'},\n",
       " {'Key': '441201847_459687019759034_1976084398501053029_n.jpg',\n",
       "  'LastModified': datetime.datetime(2024, 6, 26, 16, 35, 30, tzinfo=tzutc()),\n",
       "  'ETag': '\"87a8298194a35b152d093a029174abe0\"',\n",
       "  'Size': 151651,\n",
       "  'StorageClass': 'STANDARD'},\n",
       " {'Key': 'README.txt',\n",
       "  'LastModified': datetime.datetime(2024, 6, 26, 16, 35, 29, tzinfo=tzutc()),\n",
       "  'ETag': '\"61c0c80d270490a64fb152a1b8bc05c5\"',\n",
       "  'Size': 2847,\n",
       "  'StorageClass': 'STANDARD'},\n",
       " {'Key': 'The Missing Sydney Harwin List June 2024.txt',\n",
       "  'LastModified': datetime.datetime(2024, 6, 26, 16, 35, 29, tzinfo=tzutc()),\n",
       "  'ETag': '\"d4cb9ad33ec708e83603648c92665be7\"',\n",
       "  'Size': 1888,\n",
       "  'StorageClass': 'STANDARD'},\n",
       " {'Key': 'VPC.png',\n",
       "  'LastModified': datetime.datetime(2024, 6, 26, 16, 35, 30, tzinfo=tzutc()),\n",
       "  'ETag': '\"90fff20a10b845ba263c50dcf40797d0\"',\n",
       "  'Size': 140779,\n",
       "  'StorageClass': 'STANDARD'}]"
      ]
     },
     "execution_count": 180,
     "metadata": {},
     "output_type": "execute_result"
    }
   ],
   "source": [
    "s3_bucket_contents"
   ]
  },
  {
   "cell_type": "code",
   "execution_count": 181,
   "metadata": {},
   "outputs": [],
   "source": [
    "object_name_and_folder_list = []\n",
    "\n",
    "for item in s3_bucket_contents:\n",
    "    object_name = item['Key']\n",
    "    object_name_and_folder_list.append(object_name)\n"
   ]
  },
  {
   "cell_type": "code",
   "execution_count": 182,
   "metadata": {},
   "outputs": [
    {
     "data": {
      "text/plain": [
       "['2024-06-26/',\n",
       " '2024-06-26/1.Terraform-Ecommerce.jpg',\n",
       " '2024-06-26/2._Host_a_WordPress_Website_on_AWS.png',\n",
       " '2024-06-26/Guide Amazon QuickSight project_Rasha.pdf',\n",
       " '2024-06-26/host_worldpress.pdf',\n",
       " '441201847_459687019759034_1976084398501053029_n.jpg',\n",
       " 'README.txt',\n",
       " 'The Missing Sydney Harwin List June 2024.txt',\n",
       " 'VPC.png']"
      ]
     },
     "execution_count": 182,
     "metadata": {},
     "output_type": "execute_result"
    }
   ],
   "source": [
    "object_name_and_folder_list"
   ]
  },
  {
   "cell_type": "code",
   "execution_count": 183,
   "metadata": {},
   "outputs": [],
   "source": [
    "directory_name = today + '/'"
   ]
  },
  {
   "cell_type": "code",
   "execution_count": 184,
   "metadata": {},
   "outputs": [
    {
     "name": "stdout",
     "output_type": "stream",
     "text": [
      "2024-06-26/\n"
     ]
    }
   ],
   "source": [
    "print(directory_name)"
   ]
  },
  {
   "cell_type": "code",
   "execution_count": 185,
   "metadata": {},
   "outputs": [
    {
     "name": "stdout",
     "output_type": "stream",
     "text": [
      "Directory already exists\n"
     ]
    }
   ],
   "source": [
    "if directory_name in object_name_and_folder_list:\n",
    "    print('Directory already exists')\n",
    "else:\n",
    "    print('Directory does not exist , adding new folder')\n",
    "    client.put_object(Bucket=bucket_name, Key=directory_name)"
   ]
  },
  {
   "cell_type": "code",
   "execution_count": 186,
   "metadata": {},
   "outputs": [
    {
     "name": "stdout",
     "output_type": "stream",
     "text": [
      "Moving object: 441201847_459687019759034_1976084398501053029_n.jpg to 2024-06-26/\n",
      "Deleting object from:abo-s3-organizer\n",
      "Moving object: README.txt to 2024-06-26/\n",
      "Deleting object from:abo-s3-organizer\n",
      "Moving object: The Missing Sydney Harwin List June 2024.txt to 2024-06-26/\n",
      "Deleting object from:abo-s3-organizer\n",
      "Moving object: VPC.png to 2024-06-26/\n",
      "Deleting object from:abo-s3-organizer\n"
     ]
    }
   ],
   "source": [
    "for item in s3_bucket_contents:\n",
    "    creation_date = item['LastModified'].strftime('%Y-%m-%d') + '/'\n",
    "    object_name = item['Key']\n",
    "\n",
    "    if creation_date == directory_name and '/' not in object_name:\n",
    "        print('Moving object: ' + object_name + ' to ' + directory_name)\n",
    "        copy_source = bucket_name + '/' + object_name\n",
    "        client.copy_object (Bucket = bucket_name , CopySource = copy_source, Key = directory_name + object_name)\n",
    "        print('Deleting object from:' + bucket_name)\n",
    "        client.delete_object(Bucket = bucket_name, Key = object_name)\n",
    "   \n",
    "        \n"
   ]
  },
  {
   "cell_type": "code",
   "execution_count": null,
   "metadata": {},
   "outputs": [],
   "source": []
  }
 ],
 "metadata": {
  "kernelspec": {
   "display_name": "Python 3",
   "language": "python",
   "name": "python3"
  },
  "language_info": {
   "codemirror_mode": {
    "name": "ipython",
    "version": 3
   },
   "file_extension": ".py",
   "mimetype": "text/x-python",
   "name": "python",
   "nbconvert_exporter": "python",
   "pygments_lexer": "ipython3",
   "version": "3.12.1"
  }
 },
 "nbformat": 4,
 "nbformat_minor": 2
}
