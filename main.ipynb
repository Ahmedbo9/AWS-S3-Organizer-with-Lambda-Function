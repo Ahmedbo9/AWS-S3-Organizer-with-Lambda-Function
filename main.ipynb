{
 "cells": [
  {
   "cell_type": "code",
   "execution_count": 145,
   "metadata": {},
   "outputs": [],
   "source": [
    "import boto3\n",
    "from datetime import datetime"
   ]
  },
  {
   "cell_type": "code",
   "execution_count": 146,
   "metadata": {},
   "outputs": [],
   "source": [
    "today = datetime.today().strftime('%Y-%m-%d')\n"
   ]
  },
  {
   "cell_type": "code",
   "execution_count": 147,
   "metadata": {},
   "outputs": [],
   "source": [
    "client = boto3.client('s3')"
   ]
  },
  {
   "cell_type": "code",
   "execution_count": 148,
   "metadata": {},
   "outputs": [],
   "source": [
    "bucket_name = 'abo-s3-organizer'"
   ]
  },
  {
   "cell_type": "code",
   "execution_count": 149,
   "metadata": {},
   "outputs": [],
   "source": [
    "list_of_objects = client.list_objects_v2(Bucket=bucket_name)\n"
   ]
  },
  {
   "cell_type": "code",
   "execution_count": 150,
   "metadata": {},
   "outputs": [
    {
     "data": {
      "text/plain": [
       "{'ResponseMetadata': {'RequestId': 'J1EE22RMHEG10612',\n",
       "  'HostId': 'nX1acLuTexlFsX4Ng/4Wn4JP8m20TH6bmPGi4qlDdzIsmPJlgYBDnH8YJfrfs4geaLAoyMyG8hA=',\n",
       "  'HTTPStatusCode': 200,\n",
       "  'HTTPHeaders': {'x-amz-id-2': 'nX1acLuTexlFsX4Ng/4Wn4JP8m20TH6bmPGi4qlDdzIsmPJlgYBDnH8YJfrfs4geaLAoyMyG8hA=',\n",
       "   'x-amz-request-id': 'J1EE22RMHEG10612',\n",
       "   'date': 'Wed, 26 Jun 2024 16:17:26 GMT',\n",
       "   'x-amz-bucket-region': 'us-east-1',\n",
       "   'content-type': 'application/xml',\n",
       "   'transfer-encoding': 'chunked',\n",
       "   'server': 'AmazonS3'},\n",
       "  'RetryAttempts': 0},\n",
       " 'IsTruncated': False,\n",
       " 'Contents': [{'Key': '1.Terraform-Ecommerce.jpg',\n",
       "   'LastModified': datetime.datetime(2024, 6, 26, 14, 51, 33, tzinfo=tzutc()),\n",
       "   'ETag': '\"b368dfb7a5118bb10f27f5ad3ad8073a\"',\n",
       "   'Size': 479967,\n",
       "   'StorageClass': 'STANDARD'},\n",
       "  {'Key': '2._Host_a_WordPress_Website_on_AWS.png',\n",
       "   'LastModified': datetime.datetime(2024, 6, 26, 14, 51, 33, tzinfo=tzutc()),\n",
       "   'ETag': '\"34f5d8c36df125b172c20d5433aa525c\"',\n",
       "   'Size': 278017,\n",
       "   'StorageClass': 'STANDARD'},\n",
       "  {'Key': '2024-06-26/',\n",
       "   'LastModified': datetime.datetime(2024, 6, 26, 16, 15, 18, tzinfo=tzutc()),\n",
       "   'ETag': '\"d41d8cd98f00b204e9800998ecf8427e\"',\n",
       "   'Size': 0,\n",
       "   'StorageClass': 'STANDARD'},\n",
       "  {'Key': 'Guide Amazon QuickSight project_Rasha.pdf',\n",
       "   'LastModified': datetime.datetime(2024, 6, 26, 14, 51, 32, tzinfo=tzutc()),\n",
       "   'ETag': '\"88905c527364716ae57b433c0fbd1c20\"',\n",
       "   'Size': 1453746,\n",
       "   'StorageClass': 'STANDARD'},\n",
       "  {'Key': 'host_worldpress.pdf',\n",
       "   'LastModified': datetime.datetime(2024, 6, 26, 14, 51, 33, tzinfo=tzutc()),\n",
       "   'ETag': '\"8acf850b27b2c45df86813cad7a03587\"',\n",
       "   'Size': 75030,\n",
       "   'StorageClass': 'STANDARD'}],\n",
       " 'Name': 'abo-s3-organizer',\n",
       " 'Prefix': '',\n",
       " 'MaxKeys': 1000,\n",
       " 'EncodingType': 'url',\n",
       " 'KeyCount': 5}"
      ]
     },
     "execution_count": 150,
     "metadata": {},
     "output_type": "execute_result"
    }
   ],
   "source": [
    "list_of_objects"
   ]
  },
  {
   "cell_type": "code",
   "execution_count": 151,
   "metadata": {},
   "outputs": [],
   "source": [
    "s3_bucket_contents = list_of_objects['Contents']"
   ]
  },
  {
   "cell_type": "code",
   "execution_count": 152,
   "metadata": {},
   "outputs": [
    {
     "data": {
      "text/plain": [
       "[{'Key': '1.Terraform-Ecommerce.jpg',\n",
       "  'LastModified': datetime.datetime(2024, 6, 26, 14, 51, 33, tzinfo=tzutc()),\n",
       "  'ETag': '\"b368dfb7a5118bb10f27f5ad3ad8073a\"',\n",
       "  'Size': 479967,\n",
       "  'StorageClass': 'STANDARD'},\n",
       " {'Key': '2._Host_a_WordPress_Website_on_AWS.png',\n",
       "  'LastModified': datetime.datetime(2024, 6, 26, 14, 51, 33, tzinfo=tzutc()),\n",
       "  'ETag': '\"34f5d8c36df125b172c20d5433aa525c\"',\n",
       "  'Size': 278017,\n",
       "  'StorageClass': 'STANDARD'},\n",
       " {'Key': '2024-06-26/',\n",
       "  'LastModified': datetime.datetime(2024, 6, 26, 16, 15, 18, tzinfo=tzutc()),\n",
       "  'ETag': '\"d41d8cd98f00b204e9800998ecf8427e\"',\n",
       "  'Size': 0,\n",
       "  'StorageClass': 'STANDARD'},\n",
       " {'Key': 'Guide Amazon QuickSight project_Rasha.pdf',\n",
       "  'LastModified': datetime.datetime(2024, 6, 26, 14, 51, 32, tzinfo=tzutc()),\n",
       "  'ETag': '\"88905c527364716ae57b433c0fbd1c20\"',\n",
       "  'Size': 1453746,\n",
       "  'StorageClass': 'STANDARD'},\n",
       " {'Key': 'host_worldpress.pdf',\n",
       "  'LastModified': datetime.datetime(2024, 6, 26, 14, 51, 33, tzinfo=tzutc()),\n",
       "  'ETag': '\"8acf850b27b2c45df86813cad7a03587\"',\n",
       "  'Size': 75030,\n",
       "  'StorageClass': 'STANDARD'}]"
      ]
     },
     "execution_count": 152,
     "metadata": {},
     "output_type": "execute_result"
    }
   ],
   "source": [
    "s3_bucket_contents"
   ]
  },
  {
   "cell_type": "code",
   "execution_count": 153,
   "metadata": {},
   "outputs": [],
   "source": [
    "object_name_and_folder_list = []\n",
    "\n",
    "for item in s3_bucket_contents:\n",
    "    object_name = item['Key']\n",
    "    object_name_and_folder_list.append(object_name)\n"
   ]
  },
  {
   "cell_type": "code",
   "execution_count": 154,
   "metadata": {},
   "outputs": [
    {
     "data": {
      "text/plain": [
       "['1.Terraform-Ecommerce.jpg',\n",
       " '2._Host_a_WordPress_Website_on_AWS.png',\n",
       " '2024-06-26/',\n",
       " 'Guide Amazon QuickSight project_Rasha.pdf',\n",
       " 'host_worldpress.pdf']"
      ]
     },
     "execution_count": 154,
     "metadata": {},
     "output_type": "execute_result"
    }
   ],
   "source": [
    "object_name_and_folder_list"
   ]
  },
  {
   "cell_type": "code",
   "execution_count": 155,
   "metadata": {},
   "outputs": [],
   "source": [
    "directory_name = today + '/'"
   ]
  },
  {
   "cell_type": "code",
   "execution_count": 156,
   "metadata": {},
   "outputs": [
    {
     "name": "stdout",
     "output_type": "stream",
     "text": [
      "2024-06-26/\n"
     ]
    }
   ],
   "source": [
    "print(directory_name)"
   ]
  },
  {
   "cell_type": "code",
   "execution_count": 157,
   "metadata": {},
   "outputs": [
    {
     "name": "stdout",
     "output_type": "stream",
     "text": [
      "Directory already exists\n"
     ]
    }
   ],
   "source": [
    "if directory_name in object_name_and_folder_list:\n",
    "    print('Directory already exists')\n",
    "else:\n",
    "    print('Directory does not exist , adding new folder')\n",
    "    client.put_object(Bucket=bucket_name, Key=directory_name)"
   ]
  },
  {
   "cell_type": "code",
   "execution_count": 158,
   "metadata": {},
   "outputs": [
    {
     "name": "stdout",
     "output_type": "stream",
     "text": [
      "Moving object: 1.Terraform-Ecommerce.jpg to 2024-06-26/\n",
      "Moving object: 2._Host_a_WordPress_Website_on_AWS.png to 2024-06-26/\n",
      "Moving object: Guide Amazon QuickSight project_Rasha.pdf to 2024-06-26/\n",
      "Moving object: host_worldpress.pdf to 2024-06-26/\n"
     ]
    }
   ],
   "source": [
    "for item in s3_bucket_contents:\n",
    "    creation_date = item['LastModified'].strftime('%Y-%m-%d') + '/'\n",
    "    object_name = item['Key']\n",
    "\n",
    "    if creation_date == directory_name and '/' not in object_name:\n",
    "        print('Moving object: ' + object_name + ' to ' + directory_name)\n",
    "        copy_source = bucket_name + '/' + object_name\n",
    "        client.copy_object (Bucket = bucket_name , CopySource = copy_source, Key = directory_name + object_name)\n",
    "        \n",
    "   \n",
    "        \n"
   ]
  }
 ],
 "metadata": {
  "kernelspec": {
   "display_name": "Python 3",
   "language": "python",
   "name": "python3"
  },
  "language_info": {
   "codemirror_mode": {
    "name": "ipython",
    "version": 3
   },
   "file_extension": ".py",
   "mimetype": "text/x-python",
   "name": "python",
   "nbconvert_exporter": "python",
   "pygments_lexer": "ipython3",
   "version": "3.12.1"
  }
 },
 "nbformat": 4,
 "nbformat_minor": 2
}
