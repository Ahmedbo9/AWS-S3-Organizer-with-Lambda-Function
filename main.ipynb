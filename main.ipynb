{
 "cells": [
  {
   "cell_type": "code",
   "execution_count": 187,
   "metadata": {},
   "outputs": [],
   "source": [
    "import boto3\n",
    "from datetime import datetime"
   ]
  },
  {
   "cell_type": "code",
   "execution_count": 188,
   "metadata": {},
   "outputs": [],
   "source": [
    "today = datetime.today().strftime('%Y-%m-%d')\n"
   ]
  },
  {
   "cell_type": "code",
   "execution_count": 189,
   "metadata": {},
   "outputs": [],
   "source": [
    "client = boto3.client('s3')"
   ]
  },
  {
   "cell_type": "code",
   "execution_count": 190,
   "metadata": {},
   "outputs": [],
   "source": [
    "bucket_name = 'abo-s3-organizer'"
   ]
  },
  {
   "cell_type": "code",
   "execution_count": 191,
   "metadata": {},
   "outputs": [],
   "source": [
    "list_of_objects = client.list_objects_v2(Bucket=bucket_name)\n"
   ]
  },
  {
   "cell_type": "code",
   "execution_count": null,
   "metadata": {},
   "outputs": [],
   "source": []
  },
  {
   "cell_type": "code",
   "execution_count": 192,
   "metadata": {},
   "outputs": [],
   "source": [
    "s3_bucket_contents = list_of_objects['Contents']"
   ]
  },
  {
   "cell_type": "code",
   "execution_count": null,
   "metadata": {},
   "outputs": [],
   "source": []
  },
  {
   "cell_type": "code",
   "execution_count": 193,
   "metadata": {},
   "outputs": [],
   "source": [
    "object_name_and_folder_list = []\n",
    "\n",
    "for item in s3_bucket_contents:\n",
    "    object_name = item['Key']\n",
    "    object_name_and_folder_list.append(object_name)\n"
   ]
  },
  {
   "cell_type": "code",
   "execution_count": null,
   "metadata": {},
   "outputs": [],
   "source": []
  },
  {
   "cell_type": "code",
   "execution_count": 194,
   "metadata": {},
   "outputs": [],
   "source": [
    "directory_name = today + '/'"
   ]
  },
  {
   "cell_type": "code",
   "execution_count": null,
   "metadata": {},
   "outputs": [],
   "source": []
  },
  {
   "cell_type": "code",
   "execution_count": 195,
   "metadata": {},
   "outputs": [
    {
     "name": "stdout",
     "output_type": "stream",
     "text": [
      "Directory already exists\n"
     ]
    }
   ],
   "source": [
    "if directory_name in object_name_and_folder_list:\n",
    "    print('Directory already exists')\n",
    "else:\n",
    "    print('Directory does not exist , adding new folder')\n",
    "    client.put_object(Bucket=bucket_name, Key=directory_name)"
   ]
  },
  {
   "cell_type": "code",
   "execution_count": 196,
   "metadata": {},
   "outputs": [
    {
     "name": "stdout",
     "output_type": "stream",
     "text": [
      "Moving object: Resume_Ahmed_ben_othman.pdf to 2024-06-26/\n",
      "Deleting object from:abo-s3-organizer\n",
      "Moving object: Screenshot 2024-06-11 at 1.23.22 PM.png to 2024-06-26/\n",
      "Deleting object from:abo-s3-organizer\n"
     ]
    }
   ],
   "source": [
    "for item in s3_bucket_contents:\n",
    "    creation_date = item['LastModified'].strftime('%Y-%m-%d') + '/'\n",
    "    object_name = item['Key']\n",
    "\n",
    "    if creation_date == directory_name and '/' not in object_name:\n",
    "        print('Moving object: ' + object_name + ' to ' + directory_name)\n",
    "        copy_source = bucket_name + '/' + object_name\n",
    "        client.copy_object (Bucket = bucket_name , CopySource = copy_source, Key = directory_name + object_name)\n",
    "        print('Deleting object from:' + bucket_name)\n",
    "        client.delete_object(Bucket = bucket_name, Key = object_name)\n",
    "   \n",
    "        \n"
   ]
  },
  {
   "cell_type": "code",
   "execution_count": null,
   "metadata": {},
   "outputs": [],
   "source": []
  }
 ],
 "metadata": {
  "kernelspec": {
   "display_name": "Python 3",
   "language": "python",
   "name": "python3"
  },
  "language_info": {
   "codemirror_mode": {
    "name": "ipython",
    "version": 3
   },
   "file_extension": ".py",
   "mimetype": "text/x-python",
   "name": "python",
   "nbconvert_exporter": "python",
   "pygments_lexer": "ipython3",
   "version": "3.12.1"
  }
 },
 "nbformat": 4,
 "nbformat_minor": 2
}
